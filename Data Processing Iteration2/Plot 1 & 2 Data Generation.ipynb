{
 "cells": [
  {
   "cell_type": "code",
   "execution_count": 1,
   "id": "454ab841",
   "metadata": {},
   "outputs": [],
   "source": [
    "import pandas as pd\n",
    "\n",
    "from sklearn.feature_extraction.text import TfidfVectorizer\n",
    "from sklearn.model_selection import train_test_split\n",
    "from sklearn import metrics\n",
    "from sklearn.ensemble import RandomForestClassifier, AdaBoostClassifier\n",
    "from sklearn.tree import DecisionTreeClassifier\n",
    "from datetime import datetime\n",
    "from sklearn.feature_extraction.text import CountVectorizer\n",
    "from pandas import DataFrame\n",
    "from collections import OrderedDict \n",
    "import warnings\n",
    "\n",
    "warnings.filterwarnings(\"ignore\")"
   ]
  },
  {
   "cell_type": "code",
   "execution_count": 2,
   "id": "323c3140",
   "metadata": {},
   "outputs": [],
   "source": [
    "df = pd.read_csv('./fake reviews dataset.csv')"
   ]
  },
  {
   "cell_type": "code",
   "execution_count": 3,
   "id": "b05824f2",
   "metadata": {},
   "outputs": [],
   "source": [
    "import nltk\n",
    "from nltk.tokenize import RegexpTokenizer\n",
    "from nltk.stem import WordNetLemmatizer,PorterStemmer\n",
    "from nltk.corpus import stopwords\n",
    "import re\n",
    "lemmatizer = WordNetLemmatizer()\n",
    "stemmer = PorterStemmer() \n",
    "\n",
    "def preprocess(sentence):\n",
    "    sentence=str(sentence)\n",
    "    \n",
    "    # lower case\n",
    "    sentence = sentence.lower()\n",
    "    \n",
    "    # remove special characters\n",
    "    sentence=sentence.replace('{html}',\"\") \n",
    "    cleanr = re.compile('<.*?>')\n",
    "    cleantext = re.sub(cleanr, '', sentence)\n",
    "    rem_url=re.sub(r'http\\S+', '',cleantext)\n",
    "    rem_num = re.sub('[0-9]+', '', rem_url)\n",
    "    \n",
    "    # tokenization\n",
    "    tokenizer = RegexpTokenizer(r'\\w+')\n",
    "    tokens = tokenizer.tokenize(rem_num)  \n",
    "    \n",
    "    # remove stopwords\n",
    "    filtered_words = [w for w in tokens if len(w) > 2 if not w in stopwords.words('english')]\n",
    "    #filtered_words = [w for w in tokens if len(w) > 2]\n",
    "    \n",
    "    # stemming and lemmatization\n",
    "    #stem_words=[stemmer.stem(w) for w in filtered_words]\n",
    "    stem_words = filtered_words\n",
    "    lemma_words=[lemmatizer.lemmatize(w) for w in stem_words]\n",
    "    \n",
    "    return \" \".join(lemma_words)\n",
    "\n",
    "\n",
    "# clean text\n",
    "df['cleanText']=df['text_'].map(lambda s:preprocess(s)) "
   ]
  },
  {
   "cell_type": "code",
   "execution_count": 4,
   "id": "080ee0c7",
   "metadata": {},
   "outputs": [],
   "source": [
    "def create_y(row):\n",
    "    if row['label'] == 'CG':\n",
    "        return 1\n",
    "    else:\n",
    "        return 0\n",
    "\n",
    "df['new_label'] = df.apply(lambda row: create_y(row), axis=1)\n",
    "df['cleanText'] = df['cleanText'].astype('str')\n",
    "categories = ['Home_and_Kitchen_5', 'Electronics_5', 'Sports_and_Outdoors_5', \n",
    "              'Clothing_Shoes_and_Jewelry_5', 'Movies_and_TV_5']"
   ]
  },
  {
   "cell_type": "code",
   "execution_count": 5,
   "id": "8caae1ef",
   "metadata": {},
   "outputs": [
    {
     "name": "stdout",
     "output_type": "stream",
     "text": [
      "Home_and_Kitchen_5\n",
      "0.8214285714285714\n",
      "0.8218717197274453\n",
      "0.85\n",
      " \n",
      "Electronics_5\n",
      "0.7957393483709273\n",
      "0.7961627381012213\n",
      "0.8213333333333334\n",
      " \n",
      "Sports_and_Outdoors_5\n",
      "0.8227848101265823\n",
      "0.8235690235690235\n",
      "0.8514588859416445\n",
      " \n",
      "Clothing_Shoes_and_Jewelry_5\n",
      "0.8194805194805195\n",
      "0.8212426099690839\n",
      "0.856396866840731\n",
      " \n",
      "Movies_and_TV_5\n",
      "0.7799442896935933\n",
      "0.7794812053432743\n",
      "0.7777777777777778\n",
      " \n"
     ]
    }
   ],
   "source": [
    "transformers = []\n",
    "models = []\n",
    "\n",
    "# depth = 1, n_est = 60\n",
    "for category in categories:\n",
    "    \n",
    "    # take each category data\n",
    "    y = df[df['category']  == category]['new_label']\n",
    "    x = df[df['category']  == category]['cleanText']\n",
    "    x_train, x_test, y_train, y_test=train_test_split(x, y, test_size=0.20)\n",
    "    \n",
    "    # perform tfidf transformation\n",
    "    tfidf_vect = TfidfVectorizer()\n",
    "    tfidf_train = tfidf_vect.fit_transform(x_train)\n",
    "    tfidf_test = tfidf_vect.transform(x_test)\n",
    "    \n",
    "    # model training\n",
    "    Adab = AdaBoostClassifier(DecisionTreeClassifier(max_depth=2), n_estimators=70, learning_rate=0.3, random_state=1)\n",
    "    Adab.fit(tfidf_train, y_train)\n",
    "    y_pred3 = Adab.predict(tfidf_test)\n",
    "    \n",
    "    \n",
    "    # print the performance of the model\n",
    "    print(category)\n",
    "    acc_score = metrics.accuracy_score(y_test,y_pred3)\n",
    "    auc_score = metrics.roc_auc_score(y_test,y_pred3)\n",
    "    precision = metrics.precision_score(y_test, y_pred3)\n",
    "    print(acc_score)\n",
    "    print(auc_score)\n",
    "    print(precision)\n",
    "    print(' ')\n",
    "    \n",
    "    \n",
    "    # make a transformer that fits on all data\n",
    "    tfidf_transformer = TfidfVectorizer().fit(x)\n",
    "    tfidf_all = tfidf_transformer.transform(x)\n",
    "    y_all = y\n",
    "    \n",
    "    # make a model that is trained on all data\n",
    "    Adab_final = AdaBoostClassifier(DecisionTreeClassifier(max_depth=2), n_estimators=70, learning_rate=0.3, random_state=1)\n",
    "    Adab_final.fit(tfidf_all, y_all)\n",
    "    \n",
    "    # append to list\n",
    "    transformers.append(tfidf_transformer)\n",
    "    models.append(Adab_final)"
   ]
  },
  {
   "cell_type": "code",
   "execution_count": 59,
   "id": "c64c6bbe",
   "metadata": {},
   "outputs": [
    {
     "name": "stdout",
     "output_type": "stream",
     "text": [
      "Home_and_Kitchen_2017\n",
      "14.0%\n",
      " \n",
      "Electronics_2017\n",
      "20.6%\n",
      " \n",
      "Sports_and_Outdoors_2017\n",
      "18.7%\n",
      " \n",
      "Clothing_Shoes_and_Jewelry_2017\n",
      "17.5%\n",
      " \n",
      "Movies_and_TV_2017\n",
      "27.2%\n",
      " \n"
     ]
    }
   ],
   "source": [
    "import json\n",
    "\n",
    "final_df_lst = []\n",
    "\n",
    "\n",
    "categories = ['Home_and_Kitchen_2017', 'Electronics_2017', 'Sports_and_Outdoors_2017', \n",
    "              'Clothing_Shoes_and_Jewelry_2017', 'Movies_and_TV_2017']\n",
    "\n",
    "\n",
    "for category in categories:\n",
    "    \n",
    "    idx = categories.index(category)\n",
    "    \n",
    "    path = './' + category + '.json'\n",
    "    #file = open(path, 'r', encoding='utf-8')\n",
    "    #reviews = []\n",
    "    \n",
    "    #for line in file.readlines():\n",
    "    #    dic = json.loads(line)\n",
    "    #    if dic['reviewTime'][6:11] == '2018':\n",
    "    #        reviews.append(dic['reviewText'])\n",
    "    \n",
    "    # open json and take corresponding field\n",
    "    reviews = []\n",
    "    reviewTimes = []\n",
    "    reviewRatings = []\n",
    "    \n",
    "    with open(path, 'r') as file:\n",
    "        contents = json.loads(file.read())\n",
    "    file.close()\n",
    "\n",
    "    cnt = 0\n",
    "    for element in contents:\n",
    "        try:\n",
    "            reviews.append(element['reviewText'])\n",
    "            reviewTimes.append(element['reviewTime'])\n",
    "            reviewRatings.append(element['overall'])\n",
    "        except:\n",
    "            cnt += 1\n",
    "    \n",
    "    #print(len(reviews))\n",
    "    # convert to dataframe\n",
    "    df_a = pd.DataFrame([reviews, reviewTimes, reviewRatings]).T\n",
    "    df_a.columns = ['review_text', 'review_time', 'review_rating']\n",
    "    df_a['category'] = category\n",
    "    df_a['month'] = df_a['review_time'].str[:2].astype('int')\n",
    "    \n",
    "    # get count of each month\n",
    "    #df_b = pd.DataFrame(df_a.groupby(['month'])['category'].count()).reset_index()\n",
    "    #df_b.columns = ['month_', 'count']\n",
    "    #df_a = pd.merge(df_a, df_b, how='left', left_on=['month'], right_on=['month_'])\n",
    "    #df_a = df_a.drop(columns = ['month_'])\n",
    "    \n",
    "    \n",
    "    # randomly sample 3000 rows and clean text\n",
    "    #df_a = df_a.groupby(\"review_rating\").sample(n=100, random_state=123, replace=True)\n",
    "    df_a = df_a.sample(n = 2000, replace=False)\n",
    "    \n",
    "    # for each month take 1000 samples\n",
    "    #df_a = df_a.groupby(\"month\").sample(n=100, replace=False)\n",
    "    \n",
    "    \n",
    "    df_a['cleanText']=df_a['review_text'].map(lambda s:preprocess(s)) \n",
    "\n",
    "    \n",
    "    # transform the data and get prediction\n",
    "    transformer_a = transformers[idx]\n",
    "    x_a = df_a['cleanText']\n",
    "    tfidf_a = transformer_a.transform(x_a)\n",
    "    \n",
    "    model_a = models[idx]\n",
    "    pred_a = model_a.predict(tfidf_a)\n",
    "    df_a['label'] = pred_a\n",
    "    \n",
    "    # see the distribution of fake review in each category\n",
    "    dict_ = df_a['label'].value_counts().to_dict()\n",
    "    percent = dict_[1] / (dict_[0] + dict_[1])\n",
    "    print(category)\n",
    "    print('{:.1%}'.format(percent))\n",
    "    print(' ')\n",
    "    \n",
    "    final_df_lst.append(df_a)"
   ]
  },
  {
   "cell_type": "code",
   "execution_count": 60,
   "id": "eb129400",
   "metadata": {},
   "outputs": [],
   "source": [
    "df_final = pd.concat(final_df_lst)"
   ]
  },
  {
   "cell_type": "code",
   "execution_count": 61,
   "id": "3de74722",
   "metadata": {},
   "outputs": [],
   "source": [
    "name_change = {'Clothing_Shoes_and_Jewelry_2017': 'Clothes',\n",
    "               'Electronics_2017': 'Phones',\n",
    "               'Home_and_Kitchen_2017': 'Kitchens',\n",
    "               'Movies_and_TV_2017': 'Movies',\n",
    "               'Sports_and_Outdoors_2017': 'Sports'}"
   ]
  },
  {
   "cell_type": "code",
   "execution_count": 62,
   "id": "1cabe55e",
   "metadata": {},
   "outputs": [],
   "source": [
    "df_final['category'] = df_final['category'].map(name_change)"
   ]
  },
  {
   "cell_type": "markdown",
   "id": "fa71b5ca",
   "metadata": {},
   "source": [
    "## Creating dataset for plot 1"
   ]
  },
  {
   "cell_type": "code",
   "execution_count": 63,
   "id": "e667d804",
   "metadata": {},
   "outputs": [],
   "source": [
    "df1 = pd.DataFrame(df_final.groupby(['category']).apply(lambda x: x['label'].sum()/len(x)))"
   ]
  },
  {
   "cell_type": "code",
   "execution_count": 64,
   "id": "9775875a",
   "metadata": {},
   "outputs": [],
   "source": [
    "df1 = df1.reset_index()\n",
    "df1.columns = ['category', 'fake_prob']"
   ]
  },
  {
   "cell_type": "code",
   "execution_count": 65,
   "id": "480424cf",
   "metadata": {},
   "outputs": [
    {
     "data": {
      "text/html": [
       "<div>\n",
       "<style scoped>\n",
       "    .dataframe tbody tr th:only-of-type {\n",
       "        vertical-align: middle;\n",
       "    }\n",
       "\n",
       "    .dataframe tbody tr th {\n",
       "        vertical-align: top;\n",
       "    }\n",
       "\n",
       "    .dataframe thead th {\n",
       "        text-align: right;\n",
       "    }\n",
       "</style>\n",
       "<table border=\"1\" class=\"dataframe\">\n",
       "  <thead>\n",
       "    <tr style=\"text-align: right;\">\n",
       "      <th></th>\n",
       "      <th>category</th>\n",
       "      <th>fake_prob</th>\n",
       "    </tr>\n",
       "  </thead>\n",
       "  <tbody>\n",
       "    <tr>\n",
       "      <th>0</th>\n",
       "      <td>Clothes</td>\n",
       "      <td>0.1755</td>\n",
       "    </tr>\n",
       "    <tr>\n",
       "      <th>1</th>\n",
       "      <td>Kitchens</td>\n",
       "      <td>0.1400</td>\n",
       "    </tr>\n",
       "    <tr>\n",
       "      <th>2</th>\n",
       "      <td>Movies</td>\n",
       "      <td>0.2715</td>\n",
       "    </tr>\n",
       "    <tr>\n",
       "      <th>3</th>\n",
       "      <td>Phones</td>\n",
       "      <td>0.2060</td>\n",
       "    </tr>\n",
       "    <tr>\n",
       "      <th>4</th>\n",
       "      <td>Sports</td>\n",
       "      <td>0.1870</td>\n",
       "    </tr>\n",
       "  </tbody>\n",
       "</table>\n",
       "</div>"
      ],
      "text/plain": [
       "   category  fake_prob\n",
       "0   Clothes     0.1755\n",
       "1  Kitchens     0.1400\n",
       "2    Movies     0.2715\n",
       "3    Phones     0.2060\n",
       "4    Sports     0.1870"
      ]
     },
     "execution_count": 65,
     "metadata": {},
     "output_type": "execute_result"
    }
   ],
   "source": [
    "df1"
   ]
  },
  {
   "cell_type": "code",
   "execution_count": 66,
   "id": "3dfa21c0",
   "metadata": {},
   "outputs": [],
   "source": [
    "df1.to_csv('./plot_data/cat_vs_prob.csv', index=False)"
   ]
  },
  {
   "cell_type": "markdown",
   "id": "8e588ec6",
   "metadata": {},
   "source": [
    "## Creating dataset for plot2"
   ]
  },
  {
   "cell_type": "code",
   "execution_count": 67,
   "id": "4e8125a0",
   "metadata": {},
   "outputs": [],
   "source": [
    "df2 = pd.DataFrame(df_final.groupby(['review_rating']).apply(lambda x: x['label'].sum()/len(x))).reset_index()"
   ]
  },
  {
   "cell_type": "code",
   "execution_count": 68,
   "id": "e0faa8d1",
   "metadata": {},
   "outputs": [],
   "source": [
    "df2['review_rating'] = df2['review_rating'].astype(int)"
   ]
  },
  {
   "cell_type": "code",
   "execution_count": 69,
   "id": "7eba7bd5",
   "metadata": {},
   "outputs": [],
   "source": [
    "df2.columns = ['review_rating', 'frac']"
   ]
  },
  {
   "cell_type": "code",
   "execution_count": 70,
   "id": "5e44e45f",
   "metadata": {},
   "outputs": [
    {
     "data": {
      "text/html": [
       "<div>\n",
       "<style scoped>\n",
       "    .dataframe tbody tr th:only-of-type {\n",
       "        vertical-align: middle;\n",
       "    }\n",
       "\n",
       "    .dataframe tbody tr th {\n",
       "        vertical-align: top;\n",
       "    }\n",
       "\n",
       "    .dataframe thead th {\n",
       "        text-align: right;\n",
       "    }\n",
       "</style>\n",
       "<table border=\"1\" class=\"dataframe\">\n",
       "  <thead>\n",
       "    <tr style=\"text-align: right;\">\n",
       "      <th></th>\n",
       "      <th>review_rating</th>\n",
       "      <th>frac</th>\n",
       "    </tr>\n",
       "  </thead>\n",
       "  <tbody>\n",
       "    <tr>\n",
       "      <th>0</th>\n",
       "      <td>1</td>\n",
       "      <td>0.103486</td>\n",
       "    </tr>\n",
       "    <tr>\n",
       "      <th>1</th>\n",
       "      <td>2</td>\n",
       "      <td>0.145129</td>\n",
       "    </tr>\n",
       "    <tr>\n",
       "      <th>2</th>\n",
       "      <td>3</td>\n",
       "      <td>0.158621</td>\n",
       "    </tr>\n",
       "    <tr>\n",
       "      <th>3</th>\n",
       "      <td>4</td>\n",
       "      <td>0.222464</td>\n",
       "    </tr>\n",
       "    <tr>\n",
       "      <th>4</th>\n",
       "      <td>5</td>\n",
       "      <td>0.211616</td>\n",
       "    </tr>\n",
       "  </tbody>\n",
       "</table>\n",
       "</div>"
      ],
      "text/plain": [
       "   review_rating      frac\n",
       "0              1  0.103486\n",
       "1              2  0.145129\n",
       "2              3  0.158621\n",
       "3              4  0.222464\n",
       "4              5  0.211616"
      ]
     },
     "execution_count": 70,
     "metadata": {},
     "output_type": "execute_result"
    }
   ],
   "source": [
    "df2"
   ]
  },
  {
   "cell_type": "code",
   "execution_count": 71,
   "id": "5019c1c0",
   "metadata": {},
   "outputs": [],
   "source": [
    "df2.to_csv('./plot_data/rating_vs_prob.csv', index=False)"
   ]
  },
  {
   "cell_type": "code",
   "execution_count": null,
   "id": "7e0939c3",
   "metadata": {},
   "outputs": [],
   "source": []
  }
 ],
 "metadata": {
  "kernelspec": {
   "display_name": "Python 3",
   "language": "python",
   "name": "python3"
  },
  "language_info": {
   "codemirror_mode": {
    "name": "ipython",
    "version": 3
   },
   "file_extension": ".py",
   "mimetype": "text/x-python",
   "name": "python",
   "nbconvert_exporter": "python",
   "pygments_lexer": "ipython3",
   "version": "3.8.8"
  }
 },
 "nbformat": 4,
 "nbformat_minor": 5
}
