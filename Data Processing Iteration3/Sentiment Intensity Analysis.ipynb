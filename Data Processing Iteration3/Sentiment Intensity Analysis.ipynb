{
 "cells": [
  {
   "cell_type": "code",
   "execution_count": 13,
   "id": "3c22d459",
   "metadata": {},
   "outputs": [
    {
     "name": "stdout",
     "output_type": "stream",
     "text": [
      "Strong Negative\n"
     ]
    }
   ],
   "source": [
    "from textblob import TextBlob\n",
    "\n",
    "# helper function for assigning sentiment intensity tag to user text\n",
    "def calculate_polarity(pol):\n",
    "    \n",
    "    pol_scale = ''\n",
    "    \n",
    "    if pol >= 0.3:\n",
    "        if pol <= 0.5:\n",
    "            pol_scale = 'Weak Positive'\n",
    "        else:\n",
    "            pol_scale = 'Strong Positive'\n",
    "    \n",
    "    elif pol < 0.3 and pol > -0.3:\n",
    "        pol_scale = 'Neutral'\n",
    "    \n",
    "    else:\n",
    "        if pol >= -0.5:\n",
    "            pol_scale = 'Weak Negative'\n",
    "        else:\n",
    "            pol_scale = 'Strong Negative'\n",
    "\n",
    "    return pol_scale\n",
    "\n",
    "\n",
    "# function for getting polarity score of user text\n",
    "def get_sentiment_intensity(user_text):\n",
    "    \n",
    "    tb = TextBlob(user_text)\n",
    "    \n",
    "    pol = tb.sentiment.polarity\n",
    "    #sub = tb.sentiment.subjectivity\n",
    "    \n",
    "    pol_scale = calculate_polarity(pol)\n",
    "    \n",
    "    return pol_scale\n",
    "\n",
    "\n",
    "# main function\n",
    "if __name__ == '__main__':\n",
    "    \n",
    "    user_text = 'This is really bad product. I hate it.'\n",
    "    \n",
    "    # get the string result \n",
    "    res = get_sentiment_intensity(user_text)\n",
    "    \n",
    "    # just for showcasing the sample output\n",
    "    print(res)"
   ]
  },
  {
   "cell_type": "code",
   "execution_count": null,
   "id": "8a5bb4eb",
   "metadata": {},
   "outputs": [],
   "source": []
  }
 ],
 "metadata": {
  "kernelspec": {
   "display_name": "Python 3",
   "language": "python",
   "name": "python3"
  },
  "language_info": {
   "codemirror_mode": {
    "name": "ipython",
    "version": 3
   },
   "file_extension": ".py",
   "mimetype": "text/x-python",
   "name": "python",
   "nbconvert_exporter": "python",
   "pygments_lexer": "ipython3",
   "version": "3.8.8"
  }
 },
 "nbformat": 4,
 "nbformat_minor": 5
}
