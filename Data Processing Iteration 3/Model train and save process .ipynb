{
 "cells": [
  {
   "cell_type": "markdown",
   "id": "37d56387",
   "metadata": {},
   "source": [
    "## Step 1: Import all packages"
   ]
  },
  {
   "cell_type": "code",
   "execution_count": 1,
   "id": "454ab841",
   "metadata": {},
   "outputs": [],
   "source": [
    "import pandas as pd\n",
    "\n",
    "from sklearn.feature_extraction.text import TfidfVectorizer\n",
    "from sklearn.model_selection import train_test_split\n",
    "from sklearn import metrics\n",
    "from sklearn.ensemble import RandomForestClassifier, AdaBoostClassifier\n",
    "from sklearn.tree import DecisionTreeClassifier\n",
    "from datetime import datetime\n",
    "from sklearn.feature_extraction.text import CountVectorizer\n",
    "from pandas import DataFrame\n",
    "from collections import OrderedDict \n",
    "import warnings\n",
    "\n",
    "warnings.filterwarnings(\"ignore\")"
   ]
  },
  {
   "cell_type": "markdown",
   "id": "dffe9c9e",
   "metadata": {},
   "source": [
    "## Step 2: Read in labelled dataset obtained from iteration1"
   ]
  },
  {
   "cell_type": "code",
   "execution_count": 2,
   "id": "323c3140",
   "metadata": {},
   "outputs": [],
   "source": [
    "df = pd.read_csv('./fake reviews dataset.csv')"
   ]
  },
  {
   "cell_type": "markdown",
   "id": "3300db45",
   "metadata": {},
   "source": [
    "## Step 3: Preprocess the review text"
   ]
  },
  {
   "cell_type": "code",
   "execution_count": 3,
   "id": "b05824f2",
   "metadata": {},
   "outputs": [],
   "source": [
    "import nltk\n",
    "from nltk.tokenize import RegexpTokenizer\n",
    "from nltk.stem import WordNetLemmatizer,PorterStemmer\n",
    "from nltk.corpus import stopwords\n",
    "import re\n",
    "lemmatizer = WordNetLemmatizer()\n",
    "stemmer = PorterStemmer() \n",
    "\n",
    "def preprocess(sentence):\n",
    "    sentence=str(sentence)\n",
    "    \n",
    "    # lower case\n",
    "    sentence = sentence.lower()\n",
    "    \n",
    "    # remove special characters\n",
    "    sentence=sentence.replace('{html}',\"\") \n",
    "    cleanr = re.compile('<.*?>')\n",
    "    cleantext = re.sub(cleanr, '', sentence)\n",
    "    rem_url=re.sub(r'http\\S+', '',cleantext)\n",
    "    rem_num = re.sub('[0-9]+', '', rem_url)\n",
    "    \n",
    "    # tokenization\n",
    "    tokenizer = RegexpTokenizer(r'\\w+')\n",
    "    tokens = tokenizer.tokenize(rem_num)  \n",
    "    \n",
    "    # remove stopwords\n",
    "    filtered_words = [w for w in tokens if len(w) > 2 if not w in stopwords.words('english')]\n",
    "    #filtered_words = [w for w in tokens if len(w) > 2]\n",
    "    \n",
    "    # stemming and lemmatization\n",
    "    stem_words=[stemmer.stem(w) for w in filtered_words]\n",
    "    #stem_words = filtered_words\n",
    "    lemma_words=[lemmatizer.lemmatize(w) for w in stem_words]\n",
    "    \n",
    "    return \" \".join(lemma_words)\n",
    "\n",
    "\n",
    "# clean text\n",
    "df['cleanText']=df['text_'].map(lambda s:preprocess(s)) "
   ]
  },
  {
   "cell_type": "markdown",
   "id": "2fc19173",
   "metadata": {},
   "source": [
    "## Step 4: Convert the string label to numerical label"
   ]
  },
  {
   "cell_type": "code",
   "execution_count": 4,
   "id": "080ee0c7",
   "metadata": {},
   "outputs": [],
   "source": [
    "def create_y(row):\n",
    "    if row['label'] == 'CG':\n",
    "        return 1\n",
    "    else:\n",
    "        return 0\n",
    "\n",
    "df['new_label'] = df.apply(lambda row: create_y(row), axis=1)\n",
    "df['cleanText'] = df['cleanText'].astype('str')\n",
    "categories = ['Home_and_Kitchen_5', 'Electronics_5', 'Sports_and_Outdoors_5', \n",
    "              'Clothing_Shoes_and_Jewelry_5', 'Movies_and_TV_5']"
   ]
  },
  {
   "cell_type": "markdown",
   "id": "32e1d5e1",
   "metadata": {},
   "source": [
    "## Step 5: Train a model for each category and print out the performance of models"
   ]
  },
  {
   "cell_type": "code",
   "execution_count": 6,
   "id": "8caae1ef",
   "metadata": {},
   "outputs": [
    {
     "name": "stdout",
     "output_type": "stream",
     "text": [
      "Home_and_Kitchen_5\n",
      "Accuracy is: 0.82\n",
      "AUC score is: 0.82\n",
      "Precision is: 0.83\n",
      " \n",
      "Electronics_5\n",
      "Accuracy is: 0.78\n",
      "AUC score is: 0.77\n",
      "Precision is: 0.77\n",
      " \n",
      "Sports_and_Outdoors_5\n",
      "Accuracy is: 0.8\n",
      "AUC score is: 0.8\n",
      "Precision is: 0.79\n",
      " \n",
      "Clothing_Shoes_and_Jewelry_5\n",
      "Accuracy is: 0.83\n",
      "AUC score is: 0.83\n",
      "Precision is: 0.86\n",
      " \n",
      "Movies_and_TV_5\n",
      "Accuracy is: 0.81\n",
      "AUC score is: 0.81\n",
      "Precision is: 0.83\n",
      " \n"
     ]
    }
   ],
   "source": [
    "transformers = []\n",
    "models = []\n",
    "\n",
    "# depth = 1, n_est = 60\n",
    "for category in categories:\n",
    "    \n",
    "    # take each category data\n",
    "    y = df[df['category']  == category]['new_label']\n",
    "    x = df[df['category']  == category]['cleanText']\n",
    "    x_train, x_test, y_train, y_test=train_test_split(x, y, test_size=0.20)\n",
    "    \n",
    "    # perform tfidf transformation\n",
    "    tfidf_vect = TfidfVectorizer()\n",
    "    tfidf_train = tfidf_vect.fit_transform(x_train)\n",
    "    tfidf_test = tfidf_vect.transform(x_test)\n",
    "    \n",
    "    # model training\n",
    "    Adab = AdaBoostClassifier(DecisionTreeClassifier(max_depth=2), n_estimators=70, learning_rate=0.3, random_state=1)\n",
    "    Adab.fit(tfidf_train, y_train)\n",
    "    y_pred3 = Adab.predict(tfidf_test)\n",
    "    \n",
    "    \n",
    "    # print the performance of the model\n",
    "    print(category)\n",
    "    acc_score = metrics.accuracy_score(y_test,y_pred3)\n",
    "    auc_score = metrics.roc_auc_score(y_test,y_pred3)\n",
    "    precision = metrics.precision_score(y_test, y_pred3)\n",
    "    print('Accuracy is: ' + str(round(acc_score,2)))\n",
    "    print('AUC score is: ' + str(round(auc_score,2)))\n",
    "    print('Precision is: ' + str(round(precision,2)))\n",
    "    print(' ')\n",
    "    \n",
    "    \n",
    "    # make a transformer that fits on all data\n",
    "    tfidf_transformer = TfidfVectorizer().fit(x)\n",
    "    tfidf_all = tfidf_transformer.transform(x)\n",
    "    y_all = y\n",
    "    \n",
    "    # make a model that is trained on all data\n",
    "    Adab_final = AdaBoostClassifier(DecisionTreeClassifier(max_depth=2), n_estimators=70, learning_rate=0.3, random_state=1)\n",
    "    Adab_final.fit(tfidf_all, y_all)\n",
    "    \n",
    "    # append to list\n",
    "    transformers.append(tfidf_transformer)\n",
    "    models.append(Adab_final)"
   ]
  },
  {
   "cell_type": "markdown",
   "id": "0db73c4d",
   "metadata": {},
   "source": [
    "## Step 6: Save the Models and TfidfVectorizertrs"
   ]
  },
  {
   "cell_type": "code",
   "execution_count": 6,
   "id": "3f7dcc75",
   "metadata": {},
   "outputs": [],
   "source": [
    "import pickle\n",
    "\n",
    "# Save the Modle to file in the current working directory\n",
    "\n",
    "categories = ['Kitchens', 'Electronics', 'Sports', 'Cloths', 'Movies']\n",
    "\n",
    "for i in range(5):\n",
    "    \n",
    "    Pkl_Filename = './models/' + categories[i] + \".pkl\"  \n",
    "    \n",
    "    with open(Pkl_Filename, 'wb') as file:  \n",
    "        pickle.dump(models[i], file)\n"
   ]
  },
  {
   "cell_type": "code",
   "execution_count": 7,
   "id": "26cafedc",
   "metadata": {},
   "outputs": [],
   "source": [
    "for i in range(5):\n",
    "    \n",
    "    Pkl_Filename = './transformers/' + categories[i] + \".pickle\"  \n",
    "    \n",
    "    with open(Pkl_Filename, 'wb') as file:  \n",
    "        pickle.dump(transformers[i], file)"
   ]
  },
  {
   "cell_type": "code",
   "execution_count": null,
   "id": "7e0939c3",
   "metadata": {},
   "outputs": [],
   "source": []
  }
 ],
 "metadata": {
  "kernelspec": {
   "display_name": "Python 3",
   "language": "python",
   "name": "python3"
  },
  "language_info": {
   "codemirror_mode": {
    "name": "ipython",
    "version": 3
   },
   "file_extension": ".py",
   "mimetype": "text/x-python",
   "name": "python",
   "nbconvert_exporter": "python",
   "pygments_lexer": "ipython3",
   "version": "3.8.8"
  }
 },
 "nbformat": 4,
 "nbformat_minor": 5
}
